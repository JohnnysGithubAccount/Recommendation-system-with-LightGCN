{
 "cells": [
  {
   "cell_type": "code",
   "execution_count": 1,
   "id": "8783f0bb-ef91-421f-83c3-9b58d1e9ecd6",
   "metadata": {},
   "outputs": [],
   "source": [
    "import numpy as np\n",
    "from tqdm.notebook import tqdm\n",
    "import random\n",
    "import copy\n",
    "\n",
    "import pandas as pd\n",
    "import matplotlib.pyplot as plt\n",
    "from sklearn.model_selection import train_test_split\n",
    "from sklearn import model_selection, metrics, preprocessing\n",
    "\n",
    "import torch\n",
    "from torch import nn, optim, Tensor\n",
    "\n",
    "from torch_sparse import SparseTensor, matmul\n",
    "\n",
    "from torch_geometric.utils import structured_negative_sampling\n",
    "from torch_geometric.data import download_url, extract_zip\n",
    "from torch_geometric.nn.conv.gcn_conv import gcn_norm\n",
    "from torch_geometric.typing import Adj\n",
    "from torch_geometric.nn.conv import MessagePassing\n",
    "\n",
    "from scipy import sparse"
   ]
  },
  {
   "cell_type": "code",
   "execution_count": 2,
   "id": "4e4c9ee5-07a1-4747-b25c-ca4db0a7d08f",
   "metadata": {},
   "outputs": [
    {
     "name": "stderr",
     "output_type": "stream",
     "text": [
      "Using existing file ml-latest-small.zip\n",
      "Extracting ./data\\ml-latest-small.zip\n"
     ]
    }
   ],
   "source": [
    "# download the dataset\n",
    "# https://grouplens.org/datasets/movielens/\n",
    "# \"Small: 100,000 ratings and 3,600 tag applications applied to 9,000 movies by 600 users. Last updated 9/2018\"\n",
    "url = r\"https://files.grouplens.org/datasets/movielens/ml-latest-small.zip\"\n",
    "\n",
    "extract_zip(download_url(url, \"./data\"), \"./data\")\n",
    "\n",
    "movie_path = \"./data/ml-latest-small/movies.csv\"\n",
    "rating_path = \"./data/ml-latest-small/ratings.csv\"\n",
    "tag_path = \"./data/ml-latest-small/tags.csv\""
   ]
  },
  {
   "cell_type": "code",
   "execution_count": 3,
   "id": "6b57a62d-56f6-45bf-800f-f4026dfe8c43",
   "metadata": {},
   "outputs": [
    {
     "data": {
      "text/html": [
       "<div>\n",
       "<style scoped>\n",
       "    .dataframe tbody tr th:only-of-type {\n",
       "        vertical-align: middle;\n",
       "    }\n",
       "\n",
       "    .dataframe tbody tr th {\n",
       "        vertical-align: top;\n",
       "    }\n",
       "\n",
       "    .dataframe thead th {\n",
       "        text-align: right;\n",
       "    }\n",
       "</style>\n",
       "<table border=\"1\" class=\"dataframe\">\n",
       "  <thead>\n",
       "    <tr style=\"text-align: right;\">\n",
       "      <th></th>\n",
       "      <th>userId</th>\n",
       "      <th>movieId</th>\n",
       "      <th>rating</th>\n",
       "      <th>timestamp</th>\n",
       "    </tr>\n",
       "  </thead>\n",
       "  <tbody>\n",
       "    <tr>\n",
       "      <th>0</th>\n",
       "      <td>1</td>\n",
       "      <td>1</td>\n",
       "      <td>4.0</td>\n",
       "      <td>964982703</td>\n",
       "    </tr>\n",
       "    <tr>\n",
       "      <th>1</th>\n",
       "      <td>1</td>\n",
       "      <td>3</td>\n",
       "      <td>4.0</td>\n",
       "      <td>964981247</td>\n",
       "    </tr>\n",
       "    <tr>\n",
       "      <th>2</th>\n",
       "      <td>1</td>\n",
       "      <td>6</td>\n",
       "      <td>4.0</td>\n",
       "      <td>964982224</td>\n",
       "    </tr>\n",
       "  </tbody>\n",
       "</table>\n",
       "</div>"
      ],
      "text/plain": [
       "   userId  movieId  rating  timestamp\n",
       "0       1        1     4.0  964982703\n",
       "1       1        3     4.0  964981247\n",
       "2       1        6     4.0  964982224"
      ]
     },
     "execution_count": 3,
     "metadata": {},
     "output_type": "execute_result"
    }
   ],
   "source": [
    "rating_df = pd.read_csv(rating_path)\n",
    "\n",
    "rating_df.head(3)"
   ]
  },
  {
   "cell_type": "code",
   "execution_count": 4,
   "id": "6709eed2-2de1-4fea-a7ec-8a2d2813dd98",
   "metadata": {},
   "outputs": [],
   "source": [
    "movie_df = pd.read_csv(movie_path)\n",
    "tags_df = pd.read_csv(tag_path)"
   ]
  },
  {
   "cell_type": "code",
   "execution_count": 5,
   "id": "7428d196-7435-4253-8219-ab2bc4b96ed7",
   "metadata": {},
   "outputs": [
    {
     "data": {
      "text/html": [
       "<div>\n",
       "<style scoped>\n",
       "    .dataframe tbody tr th:only-of-type {\n",
       "        vertical-align: middle;\n",
       "    }\n",
       "\n",
       "    .dataframe tbody tr th {\n",
       "        vertical-align: top;\n",
       "    }\n",
       "\n",
       "    .dataframe thead th {\n",
       "        text-align: right;\n",
       "    }\n",
       "</style>\n",
       "<table border=\"1\" class=\"dataframe\">\n",
       "  <thead>\n",
       "    <tr style=\"text-align: right;\">\n",
       "      <th></th>\n",
       "      <th>userId</th>\n",
       "      <th>movieId</th>\n",
       "      <th>rating</th>\n",
       "      <th>timestamp</th>\n",
       "    </tr>\n",
       "  </thead>\n",
       "  <tbody>\n",
       "    <tr>\n",
       "      <th>count</th>\n",
       "      <td>100836.000000</td>\n",
       "      <td>100836.000000</td>\n",
       "      <td>100836.000000</td>\n",
       "      <td>1.008360e+05</td>\n",
       "    </tr>\n",
       "    <tr>\n",
       "      <th>mean</th>\n",
       "      <td>326.127564</td>\n",
       "      <td>19435.295718</td>\n",
       "      <td>3.501557</td>\n",
       "      <td>1.205946e+09</td>\n",
       "    </tr>\n",
       "    <tr>\n",
       "      <th>std</th>\n",
       "      <td>182.618491</td>\n",
       "      <td>35530.987199</td>\n",
       "      <td>1.042529</td>\n",
       "      <td>2.162610e+08</td>\n",
       "    </tr>\n",
       "    <tr>\n",
       "      <th>min</th>\n",
       "      <td>1.000000</td>\n",
       "      <td>1.000000</td>\n",
       "      <td>0.500000</td>\n",
       "      <td>8.281246e+08</td>\n",
       "    </tr>\n",
       "    <tr>\n",
       "      <th>25%</th>\n",
       "      <td>177.000000</td>\n",
       "      <td>1199.000000</td>\n",
       "      <td>3.000000</td>\n",
       "      <td>1.019124e+09</td>\n",
       "    </tr>\n",
       "    <tr>\n",
       "      <th>50%</th>\n",
       "      <td>325.000000</td>\n",
       "      <td>2991.000000</td>\n",
       "      <td>3.500000</td>\n",
       "      <td>1.186087e+09</td>\n",
       "    </tr>\n",
       "    <tr>\n",
       "      <th>75%</th>\n",
       "      <td>477.000000</td>\n",
       "      <td>8122.000000</td>\n",
       "      <td>4.000000</td>\n",
       "      <td>1.435994e+09</td>\n",
       "    </tr>\n",
       "    <tr>\n",
       "      <th>max</th>\n",
       "      <td>610.000000</td>\n",
       "      <td>193609.000000</td>\n",
       "      <td>5.000000</td>\n",
       "      <td>1.537799e+09</td>\n",
       "    </tr>\n",
       "  </tbody>\n",
       "</table>\n",
       "</div>"
      ],
      "text/plain": [
       "              userId        movieId         rating     timestamp\n",
       "count  100836.000000  100836.000000  100836.000000  1.008360e+05\n",
       "mean      326.127564   19435.295718       3.501557  1.205946e+09\n",
       "std       182.618491   35530.987199       1.042529  2.162610e+08\n",
       "min         1.000000       1.000000       0.500000  8.281246e+08\n",
       "25%       177.000000    1199.000000       3.000000  1.019124e+09\n",
       "50%       325.000000    2991.000000       3.500000  1.186087e+09\n",
       "75%       477.000000    8122.000000       4.000000  1.435994e+09\n",
       "max       610.000000  193609.000000       5.000000  1.537799e+09"
      ]
     },
     "execution_count": 5,
     "metadata": {},
     "output_type": "execute_result"
    }
   ],
   "source": [
    "rating_df.describe()"
   ]
  },
  {
   "cell_type": "code",
   "execution_count": 6,
   "id": "e87a1156-686a-4499-b3f4-0ed755b17a21",
   "metadata": {},
   "outputs": [],
   "source": [
    "# perform encoding preprocessing to ensure that user_id and item_id are both\n",
    "# in the range of [0, unique_count] so it won't cause out of bound issue when indexing embeddings\n",
    "\n",
    "lbl_user = preprocessing.LabelEncoder()\n",
    "lbl_movie = preprocessing.LabelEncoder() \n",
    "\n",
    "rating_df.userId = lbl_user.fit_transform(rating_df.userId.values)\n",
    "rating_df.movieId = lbl_movie.fit_transform(rating_df.movieId.values)"
   ]
  },
  {
   "cell_type": "code",
   "execution_count": 7,
   "id": "6c77691b-1692-41e3-ac4b-11421412b082",
   "metadata": {},
   "outputs": [
    {
     "data": {
      "text/plain": [
       "(609, 9723)"
      ]
     },
     "execution_count": 7,
     "metadata": {},
     "output_type": "execute_result"
    }
   ],
   "source": [
    "rating_df.userId.max(), rating_df.movieId.max()"
   ]
  },
  {
   "cell_type": "code",
   "execution_count": 8,
   "id": "2525eb67-1b60-42db-b570-d72b12124d81",
   "metadata": {},
   "outputs": [
    {
     "data": {
      "text/plain": [
       "rating\n",
       "4.0    26818\n",
       "3.0    20047\n",
       "5.0    13211\n",
       "3.5    13136\n",
       "4.5     8551\n",
       "2.0     7551\n",
       "2.5     5550\n",
       "1.0     2811\n",
       "1.5     1791\n",
       "0.5     1370\n",
       "Name: count, dtype: int64"
      ]
     },
     "execution_count": 8,
     "metadata": {},
     "output_type": "execute_result"
    }
   ],
   "source": [
    "rating_df.rating.value_counts()"
   ]
  },
  {
   "cell_type": "code",
   "execution_count": 9,
   "id": "c3fee4c4-095c-474d-8366-9557c7eec265",
   "metadata": {},
   "outputs": [],
   "source": [
    "def load_edge_csv(df,\n",
    "                src_index_col,\n",
    "                dst_index_col,\n",
    "                link_index_col,\n",
    "                rating_threshold=3):\n",
    "    \"\"\"\n",
    "    Load csv containing edges between users and items\n",
    "\n",
    "    Args: \n",
    "        src_index_col (str): column name of users\n",
    "        dst_index_col (str): column name of items\n",
    "        link_index_col (str): column name of users items interactions\n",
    "        rating threshold (int, optional): Threshold to determine positivity of edge. Defaults to 3.\n",
    "    Return:\n",
    "        list of lists: edge_index --2 by N matrix containing the node ids of N user-item edges\n",
    "        N here is the number of interactions\n",
    "    \"\"\"\n",
    "\n",
    "    edge_index = None\n",
    "\n",
    "    # constructing COO format edge_index from input rating events\n",
    "\n",
    "    # get user_ids from rating events in order of occurance \n",
    "    src = [user_id for user_id in df['userId']]\n",
    "    # get movie_ids from rating events in order of occurance\n",
    "    dst = [movie_id for movie_id in df['movieId']]\n",
    "\n",
    "    # apply rating threshold\n",
    "    edge_attr = torch.from_numpy(df[link_index_col].values).view(-1, 1).to(torch.long) >= rating_threshold\n",
    "\n",
    "    edge_index = [[], []]\n",
    "    for i in range(edge_attr.shape[0]):\n",
    "        if edge_attr[i]:\n",
    "            edge_index[0].append(src[i])\n",
    "            edge_index[1].append(dst[i])\n",
    "\n",
    "    return edge_index"
   ]
  },
  {
   "cell_type": "code",
   "execution_count": 10,
   "id": "a121888f-ca7b-4e06-8372-8610b0aed325",
   "metadata": {},
   "outputs": [
    {
     "data": {
      "text/plain": [
       "'2 x 48580'"
      ]
     },
     "execution_count": 10,
     "metadata": {},
     "output_type": "execute_result"
    }
   ],
   "source": [
    "edge_index = load_edge_csv(\n",
    "    rating_df,\n",
    "    'userId',\n",
    "    'movieId',\n",
    "    'rating', \n",
    "    3.5\n",
    ")\n",
    "\n",
    "f\"{len(edge_index)} x {len(edge_index[0])}\""
   ]
  },
  {
   "cell_type": "code",
   "execution_count": 11,
   "id": "300e1b18-a255-4b2d-b473-d10b8e43b2ad",
   "metadata": {},
   "outputs": [
    {
     "data": {
      "text/plain": [
       "(tensor([[   0,    0,    0,  ...,  609,  609,  609],\n",
       "         [   0,    2,    5,  ..., 9443, 9444, 9445]]),\n",
       " torch.Size([2, 48580]),\n",
       " torch.Size([2, 48580]))"
      ]
     },
     "execution_count": 11,
     "metadata": {},
     "output_type": "execute_result"
    }
   ],
   "source": [
    "# convert to tensor\n",
    "# use LongTensor because .propagate() method in the model needs either LongTensor or SparseTensor\n",
    "\n",
    "edge_index = torch.LongTensor(edge_index)\n",
    "edge_index, edge_index.size(),edge_index.shape"
   ]
  },
  {
   "cell_type": "code",
   "execution_count": 12,
   "id": "7c027001-6f1b-4754-bb80-f21c0304c912",
   "metadata": {},
   "outputs": [
    {
     "data": {
      "text/plain": [
       "(610, 9724)"
      ]
     },
     "execution_count": 12,
     "metadata": {},
     "output_type": "execute_result"
    }
   ],
   "source": [
    "# note: this is total number of users and movies before apply the rating threshold\n",
    "num_users = len(rating_df['userId'].unique())\n",
    "num_movies = len(rating_df['movieId'].unique())\n",
    "\n",
    "num_users, num_movies"
   ]
  },
  {
   "cell_type": "code",
   "execution_count": 13,
   "id": "b2c83f82-3550-44dc-aeb0-1be4e386ca86",
   "metadata": {},
   "outputs": [],
   "source": [
    "num_interactions= edge_index.shape[1]\n",
    "\n",
    "# split the edges of the graph using a 80/10/10 train/validation/test split\n",
    "\n",
    "all_indices = [i for i in range(num_interactions)]\n",
    "\n",
    "train_indices, test_indices = train_test_split(all_indices, \n",
    "                                               test_size=.2, \n",
    "                                               random_state=1)\n",
    "\n",
    "val_indices, test_indices= train_test_split(test_indices,\n",
    "                                           test_size=.5,\n",
    "                                           random_state=1)\n",
    "\n",
    "train_edge_index = edge_index[:, train_indices]\n",
    "val_edge_index = edge_index[:, val_indices]\n",
    "test_edge_index = edge_index[:, test_indices]"
   ]
  },
  {
   "cell_type": "code",
   "execution_count": 14,
   "id": "2917b35e-7bb0-4c77-8812-086113bbc44e",
   "metadata": {},
   "outputs": [
    {
     "data": {
      "text/plain": [
       "(610, 9724, 48580)"
      ]
     },
     "execution_count": 14,
     "metadata": {},
     "output_type": "execute_result"
    }
   ],
   "source": [
    "num_users, num_movies, num_interactions"
   ]
  },
  {
   "cell_type": "code",
   "execution_count": 15,
   "id": "3fe02544-0cfe-4038-99ea-68f624e21503",
   "metadata": {},
   "outputs": [
    {
     "data": {
      "text/plain": [
       "(tensor([[ 605,  110,  442,  ...,   65,  161,  427],\n",
       "         [1110, 9619, 1283,  ..., 4640,  443,  827]]),\n",
       " 10334)"
      ]
     },
     "execution_count": 15,
     "metadata": {},
     "output_type": "execute_result"
    }
   ],
   "source": [
    "train_edge_index, num_users + num_movies"
   ]
  },
  {
   "cell_type": "code",
   "execution_count": 16,
   "id": "3f1aabb8-b183-48a0-893c-c9dfad0ab60c",
   "metadata": {},
   "outputs": [
    {
     "data": {
      "text/plain": [
       "(torch.Size([609]), torch.Size([5676]))"
      ]
     },
     "execution_count": 16,
     "metadata": {},
     "output_type": "execute_result"
    }
   ],
   "source": [
    "torch.unique(train_edge_index[0]).size(), torch.unique(train_edge_index[1]).size()"
   ]
  },
  {
   "cell_type": "code",
   "execution_count": 17,
   "id": "88ed8a52-6eb9-434d-b4e3-8f84873c9e62",
   "metadata": {},
   "outputs": [],
   "source": [
    "def convert_r_mat_edge_index_to_adj_mat_edge_index(input_edge_index, row_size, col_size):\n",
    "    R = torch.zeros((row_size, col_size))\n",
    "\n",
    "    # convert sparse coo format to dense format to get R\n",
    "    for i in range(len(input_edge_index[0])):\n",
    "        row_idx = input_edge_index[0][i]\n",
    "        col_idx = input_edge_index[1][i]\n",
    "        R[row_idx][col_idx] = 1\n",
    "\n",
    "    # perform the r_mat to adj_mat conversion\n",
    "    R_transpose = torch.transpose(R, 0, 1)\n",
    "    adj_mat = torch.zeros((row_size + col_size, row_size + col_size))\n",
    "    adj_mat[: row_size, row_size :] = R.clone()\n",
    "    adj_mat[row_size: , :row_size] = R_transpose.clone()\n",
    "\n",
    "    # convert from dense format back to sparse coo format so we can get the edge_index of adj_mat\n",
    "    adj_mat_coo = adj_mat.to_sparse_coo()\n",
    "    adj_mat_coo = adj_mat_coo.indices()\n",
    "    return adj_mat_coo"
   ]
  },
  {
   "cell_type": "code",
   "execution_count": 18,
   "id": "56671169-3c97-4b8a-8afc-e2e3041cd8cb",
   "metadata": {},
   "outputs": [],
   "source": [
    "def convert_adj_mat_edge_index_to_r_mat_edge_index(input_edge_index, row_size, col_size):\n",
    "    # create a sparse tensor so we can easily do the to_dense conversion and get a sub matrix to\n",
    "    # get R (interation matrix) and then convert it back to sparse coo format\n",
    "    sparse_input_edge_index = SparseTensor(row=input_edge_index[0],\n",
    "                                           col=input_edge_index[1],\n",
    "                                           sparse_sizes=((row_size + col_size), row_size + col_size))\n",
    "\n",
    "    adj_mat = sparse_input_edge_index.to_dense()\n",
    "    interact_mat = adj_mat[: row_size, row_size :]\n",
    "    r_mat_edge_index = interact_mat.to_sparse_coo().indices()\n",
    "    return r_mat_edge_index"
   ]
  },
  {
   "cell_type": "code",
   "execution_count": 19,
   "id": "041e41fb-8060-48a2-ba34-0086b113d4c7",
   "metadata": {},
   "outputs": [],
   "source": [
    "# convert from r_mat edge index to adjacency matrix's edge index\n",
    "# so we can feed it to the model\n",
    "\n",
    "\n",
    "train_edge_index = convert_r_mat_edge_index_to_adj_mat_edge_index(train_edge_index,\n",
    "                                                                 num_users, num_movies)\n",
    "val_edge_index = convert_r_mat_edge_index_to_adj_mat_edge_index(val_edge_index,\n",
    "                                                               num_users, num_movies)\n",
    "test_edge_index = convert_r_mat_edge_index_to_adj_mat_edge_index(test_edge_index,\n",
    "                                                                num_users, num_movies)"
   ]
  },
  {
   "cell_type": "code",
   "execution_count": 20,
   "id": "d0264ffb-2de0-4332-833d-5c55df592068",
   "metadata": {},
   "outputs": [
    {
     "data": {
      "text/plain": [
       "(torch.Size([2, 77728]), torch.Size([2, 9716]), torch.Size([2, 9716]))"
      ]
     },
     "execution_count": 20,
     "metadata": {},
     "output_type": "execute_result"
    }
   ],
   "source": [
    "train_edge_index.size(), val_edge_index.size(), test_edge_index.size()"
   ]
  },
  {
   "cell_type": "code",
   "execution_count": 72,
   "id": "3d2bfeca-a9b0-4370-971f-a86326df4e2b",
   "metadata": {},
   "outputs": [
    {
     "data": {
      "text/plain": [
       "tensor([  0, 610], device='cuda:0')"
      ]
     },
     "execution_count": 72,
     "metadata": {},
     "output_type": "execute_result"
    }
   ],
   "source": [
    "train_edge_index[:, 0]"
   ]
  },
  {
   "cell_type": "code",
   "execution_count": 79,
   "id": "a8f8b986-cbb1-4f8b-bd9c-55405eafcea9",
   "metadata": {},
   "outputs": [
    {
     "data": {
      "text/plain": [
       "(tensor([  0, 610], device='cuda:0'), torch.Size([2]))"
      ]
     },
     "execution_count": 79,
     "metadata": {},
     "output_type": "execute_result"
    }
   ],
   "source": [
    "train_edge_index[:, 0], train_edge_index[:, 0].shape"
   ]
  },
  {
   "cell_type": "markdown",
   "id": "570ebfba-b7b3-47b0-8fac-d08959636318",
   "metadata": {},
   "source": [
    "# Testing out the structured_negative_sampling"
   ]
  },
  {
   "cell_type": "code",
   "execution_count": 21,
   "id": "ba0ae4e0-4a01-426d-8a57-7a2eb01f072f",
   "metadata": {},
   "outputs": [
    {
     "data": {
      "text/plain": [
       "(tensor([0, 0, 1, 2]), tensor([0, 1, 2, 3]), tensor([2, 3, 0, 0]))"
      ]
     },
     "execution_count": 21,
     "metadata": {},
     "output_type": "execute_result"
    }
   ],
   "source": [
    "sns_test_edge_index = torch.as_tensor([[0, 0, 1, 2],\n",
    "                                       [0, 1, 2, 3]])\n",
    "structured_negative_sampling(sns_test_edge_index)"
   ]
  },
  {
   "cell_type": "code",
   "execution_count": 22,
   "id": "2cb96539-d4ec-44f4-aad5-436e5b952550",
   "metadata": {},
   "outputs": [],
   "source": [
    "# helper function for training and compute BPR loss\n",
    "'''\n",
    "since this is a self-supervised learning, we are relying on the graph structure it self\n",
    "we don't have label other than the graph structure so we need the following function \n",
    "which random samples a mini-batch of positive and negative samples\n",
    "'''\n",
    "\n",
    "def sample_mini_batch(batch_size, edge_index):\n",
    "    \"\"\"\n",
    "    Randomly samples indices of a minibatch given an adjacency matrix \n",
    "    Args:\n",
    "        batch_size (int): mini batch size\n",
    "        edge_index (torch.Tensor): 2 by N list of edges\n",
    "    \"\"\"\n",
    "\n",
    "    \"\"\"\n",
    "    structured_negative_sampling is a PyG library,\n",
    "    Samples a negative edge: obj: '(i, k)' for every positive edge\n",
    "    :obj: '(i, k)' in the graph given by: attr: 'edge_index', and returns it as \n",
    "    a tuple of the form :obj:'(i, j, k)'\n",
    "        Check out the example above\n",
    "    \"\"\"\n",
    "    edges = structured_negative_sampling(edge_index)\n",
    "\n",
    "    # 3 x edge_index_len\n",
    "    edges = torch.stack(edges, dim=0)\n",
    "\n",
    "    # here is when we actually perform the batch samples\n",
    "    # return a k sized list of population elements chosen with replacement\n",
    "    indices = random.choices([i for i in range(edges[0].shape[0])], k=batch_size)\n",
    "    \n",
    "    batch = edges[:, indices]\n",
    "\n",
    "    user_indices, pos_item_indices, neg_item_indices = batch[0], batch[1], batch[2]\n",
    "    return user_indices, pos_item_indices, neg_item_indices"
   ]
  },
  {
   "cell_type": "markdown",
   "id": "2c243e34-d6ce-43e3-83ca-b8e1a8143187",
   "metadata": {},
   "source": [
    "# Define Light GCN model"
   ]
  },
  {
   "cell_type": "code",
   "execution_count": 23,
   "id": "b0dbcded-4528-43b9-a718-08e7bda2f48a",
   "metadata": {},
   "outputs": [],
   "source": [
    "class LightGCN(MessagePassing):\n",
    "    def __init__(self, num_users, num_items, embedding_dim=64, K=3, \n",
    "                add_self_loop=False):\n",
    "        \"\"\"\n",
    "        Initialize the Light GCN model\n",
    "        K (int, optional): number of messagepassing layers\n",
    "        add_self_loop (bool, optional): wheter to add self loops for message passing.\n",
    "        \"\"\"\n",
    "        super().__init__()\n",
    "        self.num_users = num_users\n",
    "        self.num_items = num_items\n",
    "        self.embedding_dim = embedding_dim\n",
    "        self.K = K\n",
    "        self.add_self_loop = add_self_loop\n",
    "    \n",
    "    \n",
    "        # define users and items embedding for direct look up\n",
    "        # embedding dimension: num_users/items x embedding_dims\n",
    "        # e_u^0\n",
    "        self.users_emb = nn.Embedding(num_embeddings=self.num_users,\n",
    "                                     embedding_dim=self.embedding_dim)\n",
    "        # e_i ^ 0\n",
    "        self.items_emb = nn.Embedding(num_embeddings=self.num_items,\n",
    "                                      embedding_dim=self.embedding_dim)\n",
    "    \n",
    "        # Fills the input Tensor with values drawn from the normal distribution \n",
    "        # according to LightGCN paper, this given better performance\n",
    "        nn.init.normal_(self.users_emb.weight, std=.1)\n",
    "        nn.init.normal_(self.items_emb.weight, std=.1)\n",
    "\n",
    "\n",
    "    def forward(self, edge_index: Tensor):\n",
    "        \"\"\"\n",
    "        Forward propagation of LightGCN model \n",
    "        Args:\n",
    "            edge_index: adjacency matrix\n",
    "        Return: \n",
    "            tuple (Tensor): e_u_k, e_u_0, e_i_k, e_i_0\n",
    "        \"\"\"\n",
    "\n",
    "        edge_index_norm = gcn_norm(edge_index=edge_index,\n",
    "                                  add_self_loops=self.add_self_loop)\n",
    "        # concat the user_emb and item_emb as the layer0 embedding matrix\n",
    "        # size will be (n_users + n_items) x emb_vectors_len\n",
    "        # E^0\n",
    "        emb_0 = torch.cat([self.users_emb.weight, self.items_emb.weight])\n",
    "        embs = [emb_0] # save the layer0 to the embs list\n",
    "\n",
    "        # emb_k is the emb that we are actually going to push it through the graph layers\n",
    "        # as described in LightGCN paper formular 7\n",
    "        emb_k = emb_0\n",
    "\n",
    "        # push the embedding of all users and items through the Graph Model K times\n",
    "        # K here is the number of layers\n",
    "\n",
    "        for i in range(self.K):\n",
    "            emb_k = self.propagate(edge_index=edge_index_norm[0], \n",
    "                                   x=emb_k, norm=edge_index_norm[1])\n",
    "            embs.append(emb_k)\n",
    "\n",
    "        # this is doing the formular 8 in the LightGCN paper\n",
    "        # stack embs is a list of embedding matrix at each layer\n",
    "        # it's of shape n_nodes x (n_layers + 1) x emb_vector_len\n",
    "        # e.g: torch.Size([10334, 4, 64])\n",
    "        embs = torch.stack(embs, dim=1)\n",
    "\n",
    "        # from lightgcn paper: \"we find that setting a_k uniformly as 1/(K + 1) \"\n",
    "        # leads to good performance in general\n",
    "        emb_final = torch.mean(embs, dim=1)  # E^K\n",
    "        \n",
    "        # split into e_u^K and e_i^K\n",
    "        users_emb_final, items_emb_final = torch.split(emb_final, \n",
    "                                                       [self.num_users, self.num_items])\n",
    "\n",
    "        # return e_u^K, e_u^0, e_i^K, e_i^0\n",
    "        # here using .weight to get the tensor weights from nn.Embedding\n",
    "        return users_emb_final, self.users_emb.weight, items_emb_final, self.items_emb.weight\n",
    "    def message(self, x_j, norm):\n",
    "        \"\"\"\n",
    "        x_j is of shape: edge_index_len x emb_vectors_len\n",
    "        x_j is basically the embedding of all the neighbors based on the arc_list in coo edge index\n",
    "\n",
    "        element_wise multiply by the symmetrically norm. So it's essential what formula 7 in LightGCN \n",
    "        paper does but here we are using edge_index rather that adj\n",
    "        \"\"\"\n",
    "\n",
    "        return norm.view(-1, 1) * x_j"
   ]
  },
  {
   "cell_type": "code",
   "execution_count": 24,
   "id": "82ba88c5-b47f-4ad2-8b31-c3e5cb8984ed",
   "metadata": {},
   "outputs": [],
   "source": [
    "layers = 3\n",
    "\n",
    "model = LightGCN(\n",
    "    num_users=num_users,\n",
    "    num_items=num_movies,\n",
    "    K=layers\n",
    ")"
   ]
  },
  {
   "cell_type": "markdown",
   "id": "dcb1a259-fd8c-487c-bb00-525775ad8f74",
   "metadata": {},
   "source": [
    "# Loss function"
   ]
  },
  {
   "cell_type": "code",
   "execution_count": 25,
   "id": "af8ba69b-55a3-4d07-b10e-98aae5784f04",
   "metadata": {},
   "outputs": [],
   "source": [
    "def bpr_loss(users_emb_final,\n",
    "            users_emb_0,\n",
    "            pos_items_emb_final,\n",
    "            pos_items_emb_0,\n",
    "            neg_items_emb_final,\n",
    "            neg_items_emb_0,\n",
    "            lambda_val):\n",
    "    \"\"\"\n",
    "    Bayesian Personalized Ranking Loss as described in https://arxiv.org/abs/1205.2618\n",
    "\n",
    "    Args:\n",
    "        users_emb_fina (torch.Tensor): e_u_k\n",
    "        users_emb_0 (torch.Tensor): e_u_0\n",
    "        pos_items_emb_final (torch.Tensor): positive e_i_k\n",
    "        pos_items_emb_0 (torch.Tensor): positive e_i_0\n",
    "        neg_items_emb_final (torch.Tensor): negative e_i_k\n",
    "        neg_items_emb_0 (torch.Tensor): negative e_i_0\n",
    "        lambda_val (float): lambda value for regularization loss term\n",
    "    \"\"\"\n",
    "    reg_loss = lambda_val * (users_emb_0.norm(2).pow(2) +\n",
    "                             pos_items_emb_0.norm(2).pow(2) +\n",
    "                             neg_items_emb_0.norm(2).pow(2)\n",
    "                            )  # L2 loss\n",
    "\n",
    "    pos_scores = torch.mul(users_emb_final, pos_items_emb_final)\n",
    "    pos_scores = torch.sum(pos_scores, dim=-1)  # predicted scores of positive samples\n",
    "    neg_scores = torch.mul(users_emb_final, neg_items_emb_final)\n",
    "    neg_scores = torch.sum(neg_scores, dim=-1)  # predicted scores of negative samples\n",
    "\n",
    "    bpr_loss = -torch.mean(torch.nn.functional.softplus(pos_scores - neg_scores))\n",
    "\n",
    "    loss = bpr_loss + reg_loss\n",
    "\n",
    "    return loss"
   ]
  },
  {
   "cell_type": "code",
   "execution_count": 26,
   "id": "a0534d54-2337-4027-87ab-7b0ad22d26fa",
   "metadata": {},
   "outputs": [],
   "source": [
    "def get_user_positive_items(edge_index):\n",
    "    \"\"\"\n",
    "    Generates dictionary of positive items for each user\n",
    "    Args:\n",
    "        edge_index (torch.Tensor): 2 by N list of edges\n",
    "\n",
    "    Return:\n",
    "        dict: user -> list of positive items for each \n",
    "    \"\"\"\n",
    "    user_pos_items = {}\n",
    "\n",
    "    for i in range(edge_index.shape[1]):\n",
    "        user = edge_index[0][i].item()\n",
    "        item = edge_index[1][i].item()\n",
    "\n",
    "        if user not in user_pos_items:\n",
    "            user_pos_items[user] = []\n",
    "\n",
    "        user_pos_items[user].append(item)\n",
    "\n",
    "    return user_pos_items"
   ]
  },
  {
   "cell_type": "code",
   "execution_count": 27,
   "id": "6abaa019-c197-47af-872b-805eee7100fa",
   "metadata": {},
   "outputs": [],
   "source": [
    "# compute recall2K and precision@K\n",
    "def RecallPrecision_ATK(groundTruth, r, k):\n",
    "    \"\"\"\n",
    "    Computes recall @K and precision @K\n",
    "    Args:\n",
    "        groundTruth (list[list[long]]): list of lists of items_ids. Cntaining highly rated items of each user.\n",
    "            In other words, this is the list of true_relevant_items for each_user\n",
    "        r (list[list[boolean]]): list of lists indicating whether each top k item recommended to each user\n",
    "            is a top k ground truth (true relevant) item or not\n",
    "        k (int): determine the top k items to compute precision and recall on\n",
    "    Return: \n",
    "        tuple: recall @K, precision @K\n",
    "    \"\"\"\n",
    "    # number of correctly predicted items per users\n",
    "    # -1 here means I want to sum all at the inner most dimension\n",
    "    num_correct_pred = torch.sum(r, dim=-1)\n",
    "\n",
    "    # number of items liked by each user in the test set\n",
    "    user_num_liked = torch.Tensor([len(groundTruth[i]) for i in range(len(groundTruth))])\n",
    "\n",
    "    recall = torch.mean(num_correct_pred / user_num_liked)\n",
    "    precision = torch.mean(num_correct_pred) / k\n",
    "\n",
    "    return recall.item(), precision.item()"
   ]
  },
  {
   "cell_type": "code",
   "execution_count": 28,
   "id": "0933ae09-c864-44fe-85c4-08bc7c3b8dc2",
   "metadata": {},
   "outputs": [],
   "source": [
    "# computes NDCG@K \n",
    "def NDCGatK_r(groundTruth, r, k):\n",
    "    \"\"\"\n",
    "    Compute Normalized Discounted Cumulative Gain (NDCG) @ K\n",
    "    Args:\n",
    "        groundTruth (list[list[long]]): list of lists of items_ids. Cntaining highly rated items of each user.\n",
    "            In other words, this is the list of true_relevant_items for each_user\n",
    "        r (list[list[boolean]]): list of lists indicating whether each top k item recommended to each user\n",
    "            is a top k ground truth (true relevant) item or not\n",
    "        k (int): determine the top k items to compute NDCG on\n",
    "    Return: \n",
    "        float: ndcg @ k\n",
    "    \"\"\"\n",
    "    assert len(r) == len(groundTruth)\n",
    "\n",
    "    test_matrix = torch.zeros((len(r), k))\n",
    "\n",
    "    for i, items in enumerate(groundTruth):\n",
    "        length = min(len(items), k)\n",
    "        test_matrix[i, :length] = 1\n",
    "    max_r = test_matrix \n",
    "    idcg = torch.sum(max_r *  1./torch.log2(torch.arange(2, k + 2)), axis=1)\n",
    "    dcg = r * (1. / torch.log2(torch.arange(2, k+2)))\n",
    "    dcg = torch.sum(dcg, axis=1)\n",
    "    idcg[idcg == 0.] = 1\n",
    "    ndcg = dcg / idcg\n",
    "    ndcg[torch.isnan(ndcg)] = 0\n",
    "    return torch.mean(ndcg).item()"
   ]
  },
  {
   "cell_type": "code",
   "execution_count": 29,
   "id": "c1436e31-5d55-4636-b371-dd78be239b71",
   "metadata": {},
   "outputs": [],
   "source": [
    "# wrapper function to get the evaluation metrics\n",
    "def get_metrics(model, \n",
    "                input_edge_index,  # adj_mat based edge_index\n",
    "                input_edge_index_indices,  # adj_mat based excluded  edge index\n",
    "                k):\n",
    "    \"\"\"\n",
    "    Computes the evaluation metrics: recall, precision, ndcg\n",
    "    Return: \n",
    "        tuple: recall, precision, ndcg @ k\n",
    "    \"\"\"\n",
    "\n",
    "    # get the embedding tensor at layer 0 after training\n",
    "    user_embedding = model.users_emb.weight\n",
    "    item_embedding = model.items_emb.weight\n",
    "\n",
    "    # convert adj_mat based edge_index to r_mat based \n",
    "    # so that we could have the first list being user_ids and second list being item_ids for edge index\n",
    "    edge_index = convert_adj_mat_edge_index_to_r_mat_edge_index(input_edge_index, num_users, num_movies)\n",
    "\n",
    "    # this is to exclude the edges we have seen before in our predicted interaction matrix (r_mat_rating)\n",
    "    # for example: in validation set, we want to exclude all the edges in training set\n",
    "    # print(\"exclude_edge_index\",input_edge_index_indices.shape)\n",
    "    exclude_edge_indices = [convert_adj_mat_edge_index_to_r_mat_edge_index(single_exclude_edge_index, num_users, num_movies) \n",
    "                            for single_exclude_edge_index in input_edge_index_indices]\n",
    "\n",
    "    # generate predicted interaction matrix (r_mat_rating)\n",
    "    # (num_users x 64) dot_product (num_items x 64).T \n",
    "    r_mat_rating = torch.matmul(user_embedding, item_embedding.T)\n",
    "\n",
    "    rating = r_mat_rating\n",
    "\n",
    "    for exclude_edge_index in exclude_edge_indices:\n",
    "        # get all positive items for each user from the edge index\n",
    "        # it's a dict: user -> positive items list\n",
    "        user_pos_items = get_user_positive_items(exclude_edge_index)\n",
    "\n",
    "        # get coordinates of all edges to exclude\n",
    "        exclude_users = []\n",
    "        exclude_items = []\n",
    "        for user, items in user_pos_items.items():\n",
    "            exclude_users.extend([user] * len(items))\n",
    "            exclude_items.extend(items)\n",
    "\n",
    "        # set the excluded entry in the rat_mat rating matrix to a very small number\n",
    "        rating[exclude_users, exclude_items] = -(1 << 10)\n",
    "\n",
    "    # get the top k recommended items for each user\n",
    "    _, top_K_items = torch.topk(rating, k=k)\n",
    "\n",
    "    # get all unique users in evaluated split\n",
    "    users = edge_index[0].unique()\n",
    "\n",
    "    # dict of user -> pos_items_lost\n",
    "    test_user_pos_items = get_user_positive_items(edge_index)\n",
    "\n",
    "    # convert test user pos items dictionary into a list of lists\n",
    "    test_user_pos_items_list = [test_user_pos_items[user.item()] for user in users]\n",
    "\n",
    "    # r here is 'pred_relevant_items' (combine with) 'actually_relevant_items' list for each user\n",
    "    r = []\n",
    "    for user in users:\n",
    "        user_true_relevant_item = test_user_pos_items[user.item()]\n",
    "        \"\"\"\n",
    "        list of boolean to stores whether or not a given item in the top_k_items for a given user\n",
    "        is also present in user_true_relevant_item\n",
    "        this is later on used to compute n_rel_and_rec_k\n",
    "        \"\"\"\n",
    "        label = list(map(lambda x: x in user_true_relevant_item, top_K_items[user]))\n",
    "        r.append(label)\n",
    "\n",
    "    r = torch.Tensor(np.array(r).astype('float'))\n",
    "    \n",
    "    recall, precision = RecallPrecision_ATK(test_user_pos_items_list, r, k)\n",
    "    ndcg = NDCGatK_r(test_user_pos_items_list, r, k)\n",
    "\n",
    "    return recall, precision, ndcg"
   ]
  },
  {
   "cell_type": "code",
   "execution_count": 30,
   "id": "60452c09-8001-46c8-a046-37d5a556e2c8",
   "metadata": {},
   "outputs": [],
   "source": [
    "# wrapper function to evaluate model\n",
    "def evaluation(model, \n",
    "              edge_index,\n",
    "              exclude_edge_indices,\n",
    "              k,\n",
    "              lambda_val): \n",
    "    \"\"\"\n",
    "    Evaluate model loads and metrics including recall, precision, ndcg @k\n",
    "    Return:\n",
    "        tuple: bpr loss, recall, precision, ndcg\n",
    "    \"\"\"\n",
    "    \n",
    "    # get embeddings\n",
    "    users_emb_final, users_emb_0, items_emb_final, items_emb_0 = model.forward(edge_index)\n",
    "\n",
    "    r_mat_edge_index = convert_adj_mat_edge_index_to_r_mat_edge_index(edge_index, num_users, num_movies)\n",
    "\n",
    "    edges = structured_negative_sampling(r_mat_edge_index, contains_neg_self_loops=False)\n",
    "\n",
    "    user_indices, pos_item_indices, neg_item_indices = edges[0], edges[1], edges[2]\n",
    "\n",
    "    users_emb_final, users_emb_0 = users_emb_final[user_indices], users_emb_0[user_indices]\n",
    "\n",
    "    pos_item_emb_final, pos_item_emb_0 = items_emb_final[pos_item_indices], items_emb_final[pos_item_indices]\n",
    "\n",
    "    neg_item_emb_final, neg_item_emb_0 = items_emb_final[neg_item_indices], items_emb_final[neg_item_indices]\n",
    "\n",
    "    loss = bpr_loss(\n",
    "        users_emb_final,\n",
    "        users_emb_0,\n",
    "        pos_item_emb_final,\n",
    "        pos_item_emb_0,\n",
    "        neg_item_emb_final,\n",
    "        neg_item_emb_0,\n",
    "        lambda_val\n",
    "    ).item()\n",
    "\n",
    "    recall, precision, ndcg = get_metrics(\n",
    "        model,\n",
    "        edge_index, \n",
    "        exclude_edge_indices,\n",
    "        k\n",
    "    )\n",
    "\n",
    "    return loss, recall, precision, ndcg"
   ]
  },
  {
   "cell_type": "markdown",
   "id": "ce76e82e-663f-472d-a0c3-6c21ecc1eb18",
   "metadata": {},
   "source": [
    "# Training"
   ]
  },
  {
   "cell_type": "code",
   "execution_count": 31,
   "id": "fb7143b9-8251-4e17-a48a-c0b13dc6924a",
   "metadata": {},
   "outputs": [],
   "source": [
    "ITERATIONS = 100000\n",
    "EPOCHS=10\n",
    "BATCH_SIZE=1024\n",
    "LR=1e-3\n",
    "ITERS_PER_EVAL = 200\n",
    "ITERS_PER_LR_DECAY = 200\n",
    "K = 40\n",
    "LAMBDA = 1e-6"
   ]
  },
  {
   "cell_type": "code",
   "execution_count": 32,
   "id": "6bf7ff16-a186-4b19-8df4-39500ec5b5a7",
   "metadata": {},
   "outputs": [
    {
     "name": "stdout",
     "output_type": "stream",
     "text": [
      "Using device: cuda\n"
     ]
    }
   ],
   "source": [
    "device = torch.device('cuda' if torch.cuda.is_available() else 'cpu')\n",
    "print(f\"Using device: {device}\")\n",
    "\n",
    "model = model.to(device)\n",
    "model.train()\n",
    "\n",
    "optimizer = optim.Adam(model.parameters(), lr=LR)\n",
    "scheduler = optim.lr_scheduler.ExponentialLR(optimizer, gamma=.95)\n",
    "\n",
    "edge_index = edge_index.to(device)\n",
    "train_edge_index = train_edge_index.to(device)\n",
    "val_edge_index = val_edge_index.to(device)"
   ]
  },
  {
   "cell_type": "code",
   "execution_count": 33,
   "id": "6dcbe89d-bc19-4a36-948e-6787e3bcc7d6",
   "metadata": {},
   "outputs": [],
   "source": [
    "def get_embs_for_bpr(model, input_edge_index):\n",
    "    users_emb_final, users_emb_0, items_emb_final, items_emb_0 = model.forward(input_edge_index)\n",
    "\n",
    "    edge_index_to_use = convert_adj_mat_edge_index_to_r_mat_edge_index(input_edge_index, num_users, num_movies)\n",
    "\n",
    "    # mini-batching for eval and calculate loss\n",
    "    user_indices, pos_item_indices, neg_item_indices = sample_mini_batch(BATCH_SIZE, edge_index_to_use)\n",
    "\n",
    "    # this is to push tensor to device so if we are using GPU\n",
    "    user_indices, pos_item_indices, neg_item_indices = user_indices.to(device), pos_item_indices.to(device), neg_item_indices.to(device)\n",
    "\n",
    "    # we need layer0 embeddings and the final embeddings (computed from 0 ... K layer) for BPR loss computing\n",
    "    users_emb_final, users_emb_0 = users_emb_final[user_indices], users_emb_0[user_indices]\n",
    "    pos_item_emb_final, pos_item_emb_0 = items_emb_final[pos_item_indices], items_emb_0[pos_item_indices]\n",
    "    neg_item_emb_final, neg_item_emb_0 = items_emb_final[neg_item_indices], items_emb_0[neg_item_indices]\n",
    "\n",
    "    return users_emb_final, users_emb_0, pos_item_emb_final, pos_item_emb_0, neg_item_emb_final, neg_item_emb_0"
   ]
  },
  {
   "cell_type": "code",
   "execution_count": 35,
   "id": "6a114291-6472-4f21-bcb6-b5bda2ed83fa",
   "metadata": {},
   "outputs": [
    {
     "data": {
      "application/vnd.jupyter.widget-view+json": {
       "model_id": "5c86f4b1b46f46d49302af769805c6a2",
       "version_major": 2,
       "version_minor": 0
      },
      "text/plain": [
       "  0%|          | 0/10000 [00:00<?, ?it/s]"
      ]
     },
     "metadata": {},
     "output_type": "display_data"
    },
    {
     "name": "stdout",
     "output_type": "stream",
     "text": [
      "Iteration 0\n",
      "train_loss: -0.69306|val_loss: -0.70534\n",
      "recall: 0.0019 | precision: 0.00078 | ndcg: 0.00107\n",
      "Iteration 200\n",
      "train_loss: -6.97663|val_loss: -5.27821\n",
      "recall: 0.09077 | precision: 0.02236 | ndcg: 0.05234\n",
      "Iteration 400\n",
      "train_loss: -31.75718|val_loss: -22.73145\n",
      "recall: 0.10594 | precision: 0.02532 | ndcg: 0.06842\n",
      "Iteration 600\n",
      "train_loss: -71.3531|val_loss: -50.84377\n",
      "recall: 0.12441 | precision: 0.0302 | ndcg: 0.08213\n",
      "Iteration 800\n",
      "train_loss: -117.84895|val_loss: -88.99235\n",
      "recall: 0.14285 | precision: 0.03327 | ndcg: 0.08847\n",
      "Iteration 1000\n",
      "train_loss: -189.59256|val_loss: -135.34579\n",
      "recall: 0.15547 | precision: 0.03412 | ndcg: 0.09744\n",
      "Iteration 1200\n",
      "train_loss: -257.22098|val_loss: -192.0405\n",
      "recall: 0.15924 | precision: 0.03544 | ndcg: 0.09616\n",
      "Iteration 1400\n",
      "train_loss: -355.86481|val_loss: -254.68834\n",
      "recall: 0.16542 | precision: 0.03611 | ndcg: 0.09965\n",
      "Iteration 1600\n",
      "train_loss: -456.03317|val_loss: -327.17581\n",
      "recall: 0.16709 | precision: 0.03731 | ndcg: 0.10637\n",
      "Iteration 1800\n",
      "train_loss: -574.54309|val_loss: -404.16037\n",
      "recall: 0.16956 | precision: 0.03749 | ndcg: 0.10654\n",
      "Iteration 2000\n",
      "train_loss: -684.95227|val_loss: -491.5502\n",
      "recall: 0.17197 | precision: 0.03767 | ndcg: 0.10749\n",
      "Iteration 2200\n",
      "train_loss: -822.13507|val_loss: -583.08978\n",
      "recall: 0.17086 | precision: 0.03737 | ndcg: 0.10607\n",
      "Iteration 2400\n",
      "train_loss: -940.85181|val_loss: -677.70007\n",
      "recall: 0.17826 | precision: 0.03791 | ndcg: 0.10839\n",
      "Iteration 2600\n",
      "train_loss: -1084.50476|val_loss: -777.36078\n",
      "recall: 0.1744 | precision: 0.03816 | ndcg: 0.10946\n",
      "Iteration 2800\n",
      "train_loss: -1193.07031|val_loss: -901.70642\n",
      "recall: 0.17603 | precision: 0.03858 | ndcg: 0.112\n",
      "Iteration 3000\n",
      "train_loss: -1360.28198|val_loss: -1008.72943\n",
      "recall: 0.17326 | precision: 0.03767 | ndcg: 0.11041\n",
      "Iteration 3200\n",
      "train_loss: -1567.61194|val_loss: -1146.21704\n",
      "recall: 0.17574 | precision: 0.03791 | ndcg: 0.11111\n",
      "Iteration 3400\n",
      "train_loss: -1731.15479|val_loss: -1255.46484\n",
      "recall: 0.17642 | precision: 0.03773 | ndcg: 0.11169\n",
      "Iteration 3600\n",
      "train_loss: -1856.90051|val_loss: -1407.53052\n",
      "recall: 0.18331 | precision: 0.0381 | ndcg: 0.1125\n",
      "Iteration 3800\n",
      "train_loss: -2092.35107|val_loss: -1535.53442\n",
      "recall: 0.1847 | precision: 0.03803 | ndcg: 0.11461\n",
      "Iteration 4000\n",
      "train_loss: -2290.00513|val_loss: -1668.10168\n",
      "recall: 0.18351 | precision: 0.03822 | ndcg: 0.11387\n",
      "Iteration 4200\n",
      "train_loss: -2461.77002|val_loss: -1844.1051\n",
      "recall: 0.18268 | precision: 0.03816 | ndcg: 0.113\n",
      "Iteration 4400\n",
      "train_loss: -2742.6665|val_loss: -1977.2384\n",
      "recall: 0.18286 | precision: 0.03846 | ndcg: 0.1138\n",
      "Iteration 4600\n",
      "train_loss: -2756.66406|val_loss: -2103.20532\n",
      "recall: 0.17967 | precision: 0.03797 | ndcg: 0.11399\n",
      "Iteration 4800\n",
      "train_loss: -3117.73584|val_loss: -2311.25439\n",
      "recall: 0.18389 | precision: 0.03791 | ndcg: 0.11371\n",
      "Iteration 5000\n",
      "train_loss: -3303.57422|val_loss: -2468.95337\n",
      "recall: 0.18233 | precision: 0.03767 | ndcg: 0.1145\n",
      "Iteration 5200\n",
      "train_loss: -3474.55835|val_loss: -2634.88818\n",
      "recall: 0.17966 | precision: 0.03779 | ndcg: 0.11398\n",
      "Iteration 5400\n",
      "train_loss: -3933.57324|val_loss: -2807.60742\n",
      "recall: 0.18049 | precision: 0.03779 | ndcg: 0.11414\n",
      "Iteration 5600\n",
      "train_loss: -4077.48926|val_loss: -3016.01221\n",
      "recall: 0.17817 | precision: 0.03767 | ndcg: 0.11288\n",
      "Iteration 5800\n",
      "train_loss: -4398.01562|val_loss: -3155.15674\n",
      "recall: 0.18274 | precision: 0.03822 | ndcg: 0.11419\n",
      "Iteration 6000\n",
      "train_loss: -4683.23877|val_loss: -3384.8457\n",
      "recall: 0.18543 | precision: 0.03834 | ndcg: 0.11485\n",
      "Iteration 6200\n",
      "train_loss: -4823.14648|val_loss: -3595.51855\n",
      "recall: 0.18669 | precision: 0.03828 | ndcg: 0.11525\n",
      "Iteration 6400\n",
      "train_loss: -5231.52295|val_loss: -3743.78149\n",
      "recall: 0.18666 | precision: 0.03858 | ndcg: 0.11225\n",
      "Iteration 6600\n",
      "train_loss: -5356.96729|val_loss: -4011.72852\n",
      "recall: 0.18665 | precision: 0.03864 | ndcg: 0.11539\n",
      "Iteration 6800\n",
      "train_loss: -5662.91699|val_loss: -4210.76367\n",
      "recall: 0.18402 | precision: 0.03828 | ndcg: 0.11364\n",
      "Iteration 7000\n",
      "train_loss: -5826.0752|val_loss: -4393.23486\n",
      "recall: 0.18043 | precision: 0.03761 | ndcg: 0.11054\n",
      "Iteration 7200\n",
      "train_loss: -6283.11963|val_loss: -4626.87695\n",
      "recall: 0.17933 | precision: 0.03755 | ndcg: 0.1103\n",
      "Iteration 7400\n",
      "train_loss: -6763.2998|val_loss: -4869.45117\n",
      "recall: 0.1792 | precision: 0.03755 | ndcg: 0.11186\n",
      "Iteration 7600\n",
      "train_loss: -7038.22168|val_loss: -5138.5918\n",
      "recall: 0.18122 | precision: 0.03785 | ndcg: 0.11094\n",
      "Iteration 7800\n",
      "train_loss: -7287.68945|val_loss: -5330.45557\n",
      "recall: 0.18197 | precision: 0.03791 | ndcg: 0.11127\n",
      "Iteration 8000\n",
      "train_loss: -7909.87207|val_loss: -5518.59863\n",
      "recall: 0.18548 | precision: 0.0384 | ndcg: 0.11232\n",
      "Iteration 8200\n",
      "train_loss: -7927.78613|val_loss: -5771.68311\n",
      "recall: 0.18451 | precision: 0.03852 | ndcg: 0.11481\n",
      "Iteration 8400\n",
      "train_loss: -8249.46484|val_loss: -6059.08984\n",
      "recall: 0.18336 | precision: 0.03816 | ndcg: 0.114\n",
      "Iteration 8600\n",
      "train_loss: -8630.16699|val_loss: -6269.79248\n",
      "recall: 0.18449 | precision: 0.03846 | ndcg: 0.11215\n",
      "Iteration 8800\n",
      "train_loss: -8782.66504|val_loss: -6571.98535\n",
      "recall: 0.18153 | precision: 0.03828 | ndcg: 0.11155\n",
      "Iteration 9000\n",
      "train_loss: -9370.23535|val_loss: -6780.02588\n",
      "recall: 0.18125 | precision: 0.03828 | ndcg: 0.11313\n",
      "Iteration 9200\n",
      "train_loss: -9648.0752|val_loss: -7099.45459\n",
      "recall: 0.17959 | precision: 0.03773 | ndcg: 0.1106\n",
      "Iteration 9400\n",
      "train_loss: -9689.8623|val_loss: -7340.38818\n",
      "recall: 0.18179 | precision: 0.03803 | ndcg: 0.11139\n",
      "Iteration 9600\n",
      "train_loss: -10364.6377|val_loss: -7670.57812\n",
      "recall: 0.17898 | precision: 0.03773 | ndcg: 0.11062\n",
      "Iteration 9800\n",
      "train_loss: -10515.68457|val_loss: -7970.98389\n",
      "recall: 0.1797 | precision: 0.03803 | ndcg: 0.11111\n"
     ]
    }
   ],
   "source": [
    "# training loop\n",
    "train_losses = []\n",
    "val_losses = []\n",
    "val_recall_at_ks = []\n",
    "\n",
    "for iter_ in tqdm(range(ITERATIONS)):\n",
    "    # forward propagation\n",
    "    users_emb_final, users_emb_0, pos_items_emb_final, pos_items_emb_0, neg_items_emb_final, neg_items_emb_0 = get_embs_for_bpr(\n",
    "        model,\n",
    "        train_edge_index\n",
    "    )\n",
    "\n",
    "    # loss computation\n",
    "    train_loss = bpr_loss(\n",
    "        users_emb_final,\n",
    "        users_emb_0,\n",
    "        pos_items_emb_final,\n",
    "        pos_items_emb_0,\n",
    "        neg_items_emb_final,\n",
    "        neg_items_emb_0,\n",
    "        LAMBDA)\n",
    "    optimizer.zero_grad()\n",
    "    train_loss.backward()\n",
    "    optimizer.step()\n",
    "\n",
    "    # validation set\n",
    "    if iter_  % ITERS_PER_EVAL == 0:\n",
    "        model.eval()\n",
    "\n",
    "        with torch.no_grad():\n",
    "            val_loss, recall, precision, ndcg = evaluation(\n",
    "                model, \n",
    "                val_edge_index,\n",
    "                (train_edge_index,),\n",
    "                K,\n",
    "                LAMBDA\n",
    "            )\n",
    "            print(f\"Iteration {iter_}\")\n",
    "            print(f\"train_loss: {round(train_loss.item(), 5)}|val_loss: {round(val_loss, 5)}\")\n",
    "            print(f\"recall: {round(recall, 5)} | precision: {round(precision, 5)} | ndcg: {round(ndcg, 5)}\")\n",
    "            \n",
    "            train_losses.append(train_loss.item())\n",
    "            val_losses.append(val_loss)\n",
    "            val_recall_at_ks.append(round(recall, 5))\n",
    "\n",
    "        model.train()\n",
    "\n",
    "    if iter % ITERS_PER_LR_DECAY == 0 and iter != 0:\n",
    "        scheduler.step()"
   ]
  },
  {
   "cell_type": "markdown",
   "id": "0c9feafe-fba3-4b9a-bbb2-b83ca2985919",
   "metadata": {},
   "source": [
    "# Plot the curves"
   ]
  },
  {
   "cell_type": "code",
   "execution_count": 39,
   "id": "c673a238-e47c-4835-8fe6-b7c8d3ab0003",
   "metadata": {},
   "outputs": [
    {
     "data": {
      "text/plain": [
       "Text(0.5, 1.0, 'val recall')"
      ]
     },
     "execution_count": 39,
     "metadata": {},
     "output_type": "execute_result"
    },
    {
     "data": {
      "image/png": "[encoded data removed]",
      "text/plain": [
       "<Figure size 640x480 with 2 Axes>"
      ]
     },
     "metadata": {},
     "output_type": "display_data"
    }
   ],
   "source": [
    "iters = [i * ITERS_PER_EVAL for i in range(len(train_losses))]\n",
    "\n",
    "plt.subplot(1, 2, 1)\n",
    "plt.plot(iters, train_losses, label='train_loss')\n",
    "plt.plot(iters, val_losses, label='val_loss')\n",
    "plt.xlabel('iterations')\n",
    "plt.ylabel('loss')\n",
    "plt.title('loss curves')\n",
    "\n",
    "plt.subplot(1, 2, 2)\n",
    "plt.plot(iters, val_recall_at_ks, label='recall')\n",
    "plt.xlabel('iterations')\n",
    "plt.ylabel('recall')\n",
    "plt.title('val recall')"
   ]
  },
  {
   "cell_type": "code",
   "execution_count": 41,
   "id": "f6eccb5a-fef7-4c6f-9b10-99faa5930b53",
   "metadata": {},
   "outputs": [
    {
     "name": "stdout",
     "output_type": "stream",
     "text": [
      "Test_loss: -8236.5205078125\n",
      "Test_recall: 0.1665886789560318\n",
      "Test_precision: 0.037922702729701996\n",
      "Test_ndcg: 0.10849276185035706\n"
     ]
    }
   ],
   "source": [
    "# evaluate the model\n",
    "model.eval()\n",
    "test_edge_index = test_edge_index.to(device)\n",
    "\n",
    "test_loss, test_recall, test_precision, test_ndcg = evaluation(\n",
    "    model,\n",
    "    test_edge_index,\n",
    "    (train_edge_index, val_edge_index),\n",
    "    K,\n",
    "    LAMBDA\n",
    ")\n",
    "\n",
    "print('Test_loss:', test_loss)\n",
    "print('Test_recall:', test_recall)\n",
    "print('Test_precision:', test_precision)\n",
    "print('Test_ndcg:', test_ndcg)"
   ]
  },
  {
   "cell_type": "markdown",
   "id": "96461046-b468-43a5-b868-73cc47b52926",
   "metadata": {},
   "source": [
    "# Experiencing Using the model"
   ]
  },
  {
   "cell_type": "code",
   "execution_count": 181,
   "id": "d6b8cfed-20b1-4a2f-8f61-d52791f718a5",
   "metadata": {},
   "outputs": [
    {
     "data": {
      "text/html": [
       "<div>\n",
       "<style scoped>\n",
       "    .dataframe tbody tr th:only-of-type {\n",
       "        vertical-align: middle;\n",
       "    }\n",
       "\n",
       "    .dataframe tbody tr th {\n",
       "        vertical-align: top;\n",
       "    }\n",
       "\n",
       "    .dataframe thead th {\n",
       "        text-align: right;\n",
       "    }\n",
       "</style>\n",
       "<table border=\"1\" class=\"dataframe\">\n",
       "  <thead>\n",
       "    <tr style=\"text-align: right;\">\n",
       "      <th></th>\n",
       "      <th>userId</th>\n",
       "      <th>movieId</th>\n",
       "      <th>rating</th>\n",
       "      <th>timestamp</th>\n",
       "    </tr>\n",
       "  </thead>\n",
       "  <tbody>\n",
       "    <tr>\n",
       "      <th>4744</th>\n",
       "      <td>27.0</td>\n",
       "      <td>6910.0</td>\n",
       "      <td>3.0</td>\n",
       "      <td>1.240816e+09</td>\n",
       "    </tr>\n",
       "  </tbody>\n",
       "</table>\n",
       "</div>"
      ],
      "text/plain": [
       "      userId  movieId  rating     timestamp\n",
       "4744    27.0   6910.0     3.0  1.240816e+09"
      ]
     },
     "execution_count": 181,
     "metadata": {},
     "output_type": "execute_result"
    }
   ],
   "source": [
    "rand_user_idx = random.randint(0, 9000)\n",
    "ground_truth = rating_df.iloc[rand_user_idx, :].to_frame().T\n",
    "ground_truth"
   ]
  },
  {
   "cell_type": "code",
   "execution_count": 199,
   "id": "02fb8b6a-1e79-42a2-ab39-5ecad53862be",
   "metadata": {},
   "outputs": [
    {
     "data": {
      "text/plain": [
       "(27.0, numpy.float64)"
      ]
     },
     "execution_count": 199,
     "metadata": {},
     "output_type": "execute_result"
    }
   ],
   "source": [
    "user_id_testing =  np.array(ground_truth.userId)[0]\n",
    "user_id_testing, type(user_id_testing)"
   ]
  },
  {
   "cell_type": "code",
   "execution_count": 200,
   "id": "f5b0b0c5-f873-409e-9295-b072452b1153",
   "metadata": {
    "scrolled": true
   },
   "outputs": [
    {
     "data": {
      "text/html": [
       "<div>\n",
       "<style scoped>\n",
       "    .dataframe tbody tr th:only-of-type {\n",
       "        vertical-align: middle;\n",
       "    }\n",
       "\n",
       "    .dataframe tbody tr th {\n",
       "        vertical-align: top;\n",
       "    }\n",
       "\n",
       "    .dataframe thead th {\n",
       "        text-align: right;\n",
       "    }\n",
       "</style>\n",
       "<table border=\"1\" class=\"dataframe\">\n",
       "  <thead>\n",
       "    <tr style=\"text-align: right;\">\n",
       "      <th></th>\n",
       "      <th>userId</th>\n",
       "      <th>movieId</th>\n",
       "      <th>rating</th>\n",
       "      <th>timestamp</th>\n",
       "    </tr>\n",
       "  </thead>\n",
       "  <tbody>\n",
       "    <tr>\n",
       "      <th>4194</th>\n",
       "      <td>27</td>\n",
       "      <td>5</td>\n",
       "      <td>3.5</td>\n",
       "      <td>1234570483</td>\n",
       "    </tr>\n",
       "    <tr>\n",
       "      <th>4195</th>\n",
       "      <td>27</td>\n",
       "      <td>15</td>\n",
       "      <td>2.5</td>\n",
       "      <td>1234570375</td>\n",
       "    </tr>\n",
       "    <tr>\n",
       "      <th>4196</th>\n",
       "      <td>27</td>\n",
       "      <td>20</td>\n",
       "      <td>3.0</td>\n",
       "      <td>1242290535</td>\n",
       "    </tr>\n",
       "    <tr>\n",
       "      <th>4197</th>\n",
       "      <td>27</td>\n",
       "      <td>22</td>\n",
       "      <td>1.5</td>\n",
       "      <td>1242290862</td>\n",
       "    </tr>\n",
       "    <tr>\n",
       "      <th>4198</th>\n",
       "      <td>27</td>\n",
       "      <td>30</td>\n",
       "      <td>2.5</td>\n",
       "      <td>1234334920</td>\n",
       "    </tr>\n",
       "    <tr>\n",
       "      <th>...</th>\n",
       "      <td>...</td>\n",
       "      <td>...</td>\n",
       "      <td>...</td>\n",
       "      <td>...</td>\n",
       "    </tr>\n",
       "    <tr>\n",
       "      <th>4759</th>\n",
       "      <td>27</td>\n",
       "      <td>7078</td>\n",
       "      <td>1.5</td>\n",
       "      <td>1277002289</td>\n",
       "    </tr>\n",
       "    <tr>\n",
       "      <th>4760</th>\n",
       "      <td>27</td>\n",
       "      <td>7103</td>\n",
       "      <td>2.5</td>\n",
       "      <td>1277001836</td>\n",
       "    </tr>\n",
       "    <tr>\n",
       "      <th>4761</th>\n",
       "      <td>27</td>\n",
       "      <td>7107</td>\n",
       "      <td>3.5</td>\n",
       "      <td>1277001895</td>\n",
       "    </tr>\n",
       "    <tr>\n",
       "      <th>4762</th>\n",
       "      <td>27</td>\n",
       "      <td>7168</td>\n",
       "      <td>2.0</td>\n",
       "      <td>1277002257</td>\n",
       "    </tr>\n",
       "    <tr>\n",
       "      <th>4763</th>\n",
       "      <td>27</td>\n",
       "      <td>7195</td>\n",
       "      <td>5.0</td>\n",
       "      <td>1277001853</td>\n",
       "    </tr>\n",
       "  </tbody>\n",
       "</table>\n",
       "<p>570 rows × 4 columns</p>\n",
       "</div>"
      ],
      "text/plain": [
       "      userId  movieId  rating   timestamp\n",
       "4194      27        5     3.5  1234570483\n",
       "4195      27       15     2.5  1234570375\n",
       "4196      27       20     3.0  1242290535\n",
       "4197      27       22     1.5  1242290862\n",
       "4198      27       30     2.5  1234334920\n",
       "...      ...      ...     ...         ...\n",
       "4759      27     7078     1.5  1277002289\n",
       "4760      27     7103     2.5  1277001836\n",
       "4761      27     7107     3.5  1277001895\n",
       "4762      27     7168     2.0  1277002257\n",
       "4763      27     7195     5.0  1277001853\n",
       "\n",
       "[570 rows x 4 columns]"
      ]
     },
     "execution_count": 200,
     "metadata": {},
     "output_type": "execute_result"
    }
   ],
   "source": [
    "rating_df[rating_df['userId'] == user_id_testing]"
   ]
  },
  {
   "cell_type": "code",
   "execution_count": 201,
   "id": "eb9d242e-38e2-483a-b19b-b6f6aa4f2e7e",
   "metadata": {},
   "outputs": [],
   "source": [
    "edge_index = test_edge_index\n",
    "input_edge_index_indices = (train_edge_index, )\n",
    "k = 10\n",
    "\n",
    "# get the embedding tensor at layer 0 after training\n",
    "user_embedding = model.users_emb.weight\n",
    "item_embedding = model.items_emb.weight\n",
    "\n",
    "edge_index = convert_adj_mat_edge_index_to_r_mat_edge_index(edge_index, num_users, num_movies)\n",
    "\n",
    "exclude_edge_indices = [convert_adj_mat_edge_index_to_r_mat_edge_index(single_exclude_edge_index, num_users, num_movies) \n",
    "                        for single_exclude_edge_index in input_edge_index_indices]\n",
    "\n",
    "r_mat_rating = torch.matmul(user_embedding, item_embedding.T)\n",
    "\n",
    "rating = r_mat_rating\n",
    "\n",
    "for exclude_edge_index in exclude_edge_indices:\n",
    "    # get all positive items for each user from the edge index\n",
    "    # it's a dict: user -> positive items list\n",
    "    user_pos_items = get_user_positive_items(exclude_edge_index)\n",
    "\n",
    "    # get coordinates of all edges to exclude\n",
    "    exclude_users = []\n",
    "    exclude_items = []\n",
    "    for user, items in user_pos_items.items():\n",
    "        exclude_users.extend([user] * len(items))\n",
    "        exclude_items.extend(items)\n",
    "\n",
    "    # set the excluded entry in the rat_mat rating matrix to a very small number\n",
    "    rating[exclude_users, exclude_items] = -(1 << 10)\n",
    "\n",
    "# get the top k recommended items for each user\n",
    "_, top_K_items = torch.topk(rating, k=k)\n",
    "\n",
    "# get all unique users in evaluated split\n",
    "users = edge_index[0].unique()\n",
    "\n",
    "# dict of user -> pos_items_lost\n",
    "test_user_pos_items = get_user_positive_items(edge_index)\n",
    "\n",
    "# convert test user pos items dictionary into a list of lists\n",
    "test_user_pos_items_list = [test_user_pos_items[user.item()] for user in users]"
   ]
  },
  {
   "cell_type": "code",
   "execution_count": 202,
   "id": "fb715358-b2e6-4400-aa8b-c530342a3380",
   "metadata": {},
   "outputs": [
    {
     "data": {
      "text/plain": [
       "552"
      ]
     },
     "execution_count": 202,
     "metadata": {},
     "output_type": "execute_result"
    }
   ],
   "source": [
    "len(test_user_pos_items)"
   ]
  },
  {
   "cell_type": "code",
   "execution_count": 203,
   "id": "fbe92133-87ff-4b7b-b908-1bdb1fa68882",
   "metadata": {},
   "outputs": [
    {
     "data": {
      "text/plain": [
       "552"
      ]
     },
     "execution_count": 203,
     "metadata": {},
     "output_type": "execute_result"
    }
   ],
   "source": [
    "len(test_user_pos_items_list)"
   ]
  },
  {
   "cell_type": "code",
   "execution_count": 208,
   "id": "40fc0b9d-c131-4010-bb75-f7dd1beea612",
   "metadata": {},
   "outputs": [
    {
     "data": {
      "text/plain": [
       "[277, 6726, 7022, 8358, 8420]"
      ]
     },
     "execution_count": 208,
     "metadata": {},
     "output_type": "execute_result"
    }
   ],
   "source": [
    "user_lst = test_user_pos_items_list[int(user_id_testing)]\n",
    "user_lst"
   ]
  },
  {
   "cell_type": "code",
   "execution_count": 210,
   "id": "9d9219da-daff-4528-885c-dffe7cc6a13e",
   "metadata": {},
   "outputs": [
    {
     "data": {
      "text/html": [
       "<div>\n",
       "<style scoped>\n",
       "    .dataframe tbody tr th:only-of-type {\n",
       "        vertical-align: middle;\n",
       "    }\n",
       "\n",
       "    .dataframe tbody tr th {\n",
       "        vertical-align: top;\n",
       "    }\n",
       "\n",
       "    .dataframe thead th {\n",
       "        text-align: right;\n",
       "    }\n",
       "</style>\n",
       "<table border=\"1\" class=\"dataframe\">\n",
       "  <thead>\n",
       "    <tr style=\"text-align: right;\">\n",
       "      <th></th>\n",
       "      <th>userId</th>\n",
       "      <th>movieId</th>\n",
       "      <th>rating</th>\n",
       "      <th>timestamp</th>\n",
       "    </tr>\n",
       "  </thead>\n",
       "  <tbody>\n",
       "    <tr>\n",
       "      <th>4218</th>\n",
       "      <td>27</td>\n",
       "      <td>277</td>\n",
       "      <td>3.5</td>\n",
       "      <td>1234338000</td>\n",
       "    </tr>\n",
       "    <tr>\n",
       "      <th>4702</th>\n",
       "      <td>27</td>\n",
       "      <td>6726</td>\n",
       "      <td>4.5</td>\n",
       "      <td>1234338546</td>\n",
       "    </tr>\n",
       "  </tbody>\n",
       "</table>\n",
       "</div>"
      ],
      "text/plain": [
       "      userId  movieId  rating   timestamp\n",
       "4218      27      277     3.5  1234338000\n",
       "4702      27     6726     4.5  1234338546"
      ]
     },
     "execution_count": 210,
     "metadata": {},
     "output_type": "execute_result"
    }
   ],
   "source": [
    "rating_df[(rating_df['userId'] == user_id_testing) & (rating_df['movieId'].isin(user_lst))]"
   ]
  },
  {
   "cell_type": "code",
   "execution_count": 212,
   "id": "2f3390e8-282f-488b-ae69-ea3894f3b1bf",
   "metadata": {},
   "outputs": [
    {
     "data": {
      "text/html": [
       "<div>\n",
       "<style scoped>\n",
       "    .dataframe tbody tr th:only-of-type {\n",
       "        vertical-align: middle;\n",
       "    }\n",
       "\n",
       "    .dataframe tbody tr th {\n",
       "        vertical-align: top;\n",
       "    }\n",
       "\n",
       "    .dataframe thead th {\n",
       "        text-align: right;\n",
       "    }\n",
       "</style>\n",
       "<table border=\"1\" class=\"dataframe\">\n",
       "  <thead>\n",
       "    <tr style=\"text-align: right;\">\n",
       "      <th></th>\n",
       "      <th>userId</th>\n",
       "      <th>movieId</th>\n",
       "      <th>rating</th>\n",
       "      <th>timestamp</th>\n",
       "    </tr>\n",
       "  </thead>\n",
       "  <tbody>\n",
       "    <tr>\n",
       "      <th>count</th>\n",
       "      <td>633.000000</td>\n",
       "      <td>633.000000</td>\n",
       "      <td>633.000000</td>\n",
       "      <td>6.330000e+02</td>\n",
       "    </tr>\n",
       "    <tr>\n",
       "      <th>mean</th>\n",
       "      <td>305.107425</td>\n",
       "      <td>3851.464455</td>\n",
       "      <td>4.187204</td>\n",
       "      <td>1.312099e+09</td>\n",
       "    </tr>\n",
       "    <tr>\n",
       "      <th>std</th>\n",
       "      <td>180.165758</td>\n",
       "      <td>3620.298538</td>\n",
       "      <td>0.819623</td>\n",
       "      <td>2.237169e+08</td>\n",
       "    </tr>\n",
       "    <tr>\n",
       "      <th>min</th>\n",
       "      <td>1.000000</td>\n",
       "      <td>277.000000</td>\n",
       "      <td>0.500000</td>\n",
       "      <td>8.297609e+08</td>\n",
       "    </tr>\n",
       "    <tr>\n",
       "      <th>25%</th>\n",
       "      <td>140.000000</td>\n",
       "      <td>277.000000</td>\n",
       "      <td>3.500000</td>\n",
       "      <td>1.204048e+09</td>\n",
       "    </tr>\n",
       "    <tr>\n",
       "      <th>50%</th>\n",
       "      <td>306.000000</td>\n",
       "      <td>277.000000</td>\n",
       "      <td>4.500000</td>\n",
       "      <td>1.429127e+09</td>\n",
       "    </tr>\n",
       "    <tr>\n",
       "      <th>75%</th>\n",
       "      <td>463.000000</td>\n",
       "      <td>7022.000000</td>\n",
       "      <td>5.000000</td>\n",
       "      <td>1.478452e+09</td>\n",
       "    </tr>\n",
       "    <tr>\n",
       "      <th>max</th>\n",
       "      <td>609.000000</td>\n",
       "      <td>8420.000000</td>\n",
       "      <td>5.000000</td>\n",
       "      <td>1.537158e+09</td>\n",
       "    </tr>\n",
       "  </tbody>\n",
       "</table>\n",
       "</div>"
      ],
      "text/plain": [
       "           userId      movieId      rating     timestamp\n",
       "count  633.000000   633.000000  633.000000  6.330000e+02\n",
       "mean   305.107425  3851.464455    4.187204  1.312099e+09\n",
       "std    180.165758  3620.298538    0.819623  2.237169e+08\n",
       "min      1.000000   277.000000    0.500000  8.297609e+08\n",
       "25%    140.000000   277.000000    3.500000  1.204048e+09\n",
       "50%    306.000000   277.000000    4.500000  1.429127e+09\n",
       "75%    463.000000  7022.000000    5.000000  1.478452e+09\n",
       "max    609.000000  8420.000000    5.000000  1.537158e+09"
      ]
     },
     "execution_count": 212,
     "metadata": {},
     "output_type": "execute_result"
    }
   ],
   "source": [
    "rating_df[rating_df['movieId'].isin(user_lst)].describe()"
   ]
  },
  {
   "cell_type": "code",
   "execution_count": null,
   "id": "429f576c-0ab7-4c23-82ef-b908ce00fc6b",
   "metadata": {},
   "outputs": [],
   "source": []
  }
 ],
 "metadata": {
  "kernelspec": {
   "display_name": "Python 3 (ipykernel)",
   "language": "python",
   "name": "python3"
  },
  "language_info": {
   "codemirror_mode": {
    "name": "ipython",
    "version": 3
   },
   "file_extension": ".py",
   "mimetype": "text/x-python",
   "name": "python",
   "nbconvert_exporter": "python",
   "pygments_lexer": "ipython3",
   "version": "3.10.13"
  }
 },
 "nbformat": 4,
 "nbformat_minor": 5
}
